{
 "cells": [
  {
   "cell_type": "code",
   "execution_count": 2,
   "id": "3eac23cb",
   "metadata": {},
   "outputs": [],
   "source": [
    "from logger.custom_logger import CustomLogger"
   ]
  },
  {
   "cell_type": "code",
   "execution_count": 3,
   "id": "fbc96b16",
   "metadata": {},
   "outputs": [],
   "source": [
    "logger = CustomLogger().get_logger(\"ExceptionExperiments\")"
   ]
  },
  {
   "cell_type": "code",
   "execution_count": null,
   "id": "334815ba",
   "metadata": {},
   "outputs": [
    {
     "ename": "ENTERPRISEDocumentChatException",
     "evalue": "Error occurred in script: C:\\Users\\sripa\\AppData\\Local\\Temp\\ipykernel_21904\\3068114785.py at line: 17 with message: division by zero\nTraceback:\nTraceback (most recent call last):\n  File \"C:\\Users\\sripa\\AppData\\Local\\Temp\\ipykernel_21904\\3068114785.py\", line 17, in <module>\n    a = 1 / 0\nZeroDivisionError: division by zero\n",
     "output_type": "error",
     "traceback": [
      "\u001b[1;31m---------------------------------------------------------------------------\u001b[0m",
      "\u001b[1;31mZeroDivisionError\u001b[0m                         Traceback (most recent call last)",
      "Cell \u001b[1;32mIn[4], line 17\u001b[0m\n\u001b[0;32m     16\u001b[0m \u001b[38;5;28;01mtry\u001b[39;00m:\n\u001b[1;32m---> 17\u001b[0m     a \u001b[38;5;241m=\u001b[39m \u001b[38;5;241;43m1\u001b[39;49m\u001b[43m \u001b[49m\u001b[38;5;241;43m/\u001b[39;49m\u001b[43m \u001b[49m\u001b[38;5;241;43m0\u001b[39;49m\n\u001b[0;32m     18\u001b[0m \u001b[38;5;28;01mexcept\u001b[39;00m \u001b[38;5;167;01mException\u001b[39;00m \u001b[38;5;28;01mas\u001b[39;00m e:\n",
      "\u001b[1;31mZeroDivisionError\u001b[0m: division by zero",
      "\nDuring handling of the above exception, another exception occurred:\n",
      "\u001b[1;31mENTERPRISEDocumentChatException\u001b[0m           Traceback (most recent call last)",
      "Cell \u001b[1;32mIn[4], line 21\u001b[0m\n\u001b[0;32m     19\u001b[0m app_exc\u001b[38;5;241m=\u001b[39mENTERPRISEDocumentChatException(e, sys)\n\u001b[0;32m     20\u001b[0m logger\u001b[38;5;241m.\u001b[39merror(app_exc)\n\u001b[1;32m---> 21\u001b[0m \u001b[38;5;28;01mraise\u001b[39;00m app_exc\n",
      "\u001b[1;31mENTERPRISEDocumentChatException\u001b[0m: Error occurred in script: C:\\Users\\sripa\\AppData\\Local\\Temp\\ipykernel_21904\\3068114785.py at line: 17 with message: division by zero\nTraceback:\nTraceback (most recent call last):\n  File \"C:\\Users\\sripa\\AppData\\Local\\Temp\\ipykernel_21904\\3068114785.py\", line 17, in <module>\n    a = 1 / 0\nZeroDivisionError: division by zero\n"
     ]
    }
   ],
   "source": [
    "import sys\n",
    "import traceback\n",
    "\n",
    "class ENTERPRISEDocumentChatException(Exception):\n",
    "    def __init__(self, error_message, error_detail: sys):\n",
    "        _, _, exc_tb = error_detail.exc_info()\n",
    "        self.file_name = exc_tb.tb_frame.f_code.co_filename\n",
    "        self.line_number = exc_tb.tb_lineno\n",
    "        self.error_message = str(error_message)\n",
    "        self.traceback_str = ''.join(traceback.format_exception(*error_detail.exc_info()))\n",
    "        \n",
    "    def __str__(self):\n",
    "        return f\"Error occurred in script: {self.file_name} at line: {self.line_number} with message: {self.error_message}\\nTraceback:\\n{self.traceback_str}\"\n",
    "    \n",
    "if __name__ == \"__main__\": \n",
    "    try:\n",
    "        a = 1 / 0\n",
    "        print(a)\n",
    "    except Exception as e:\n",
    "        app_exc=ENTERPRISEDocumentChatException(e, sys)\n",
    "        logger.error(app_exc)\n",
    "        raise app_exc"
   ]
  },
  {
   "cell_type": "code",
   "execution_count": null,
   "id": "152c429e",
   "metadata": {},
   "outputs": [],
   "source": []
  }
 ],
 "metadata": {
  "kernelspec": {
   "display_name": "Python 3",
   "language": "python",
   "name": "python3"
  },
  "language_info": {
   "codemirror_mode": {
    "name": "ipython",
    "version": 3
   },
   "file_extension": ".py",
   "mimetype": "text/x-python",
   "name": "python",
   "nbconvert_exporter": "python",
   "pygments_lexer": "ipython3",
   "version": "3.10.19"
  }
 },
 "nbformat": 4,
 "nbformat_minor": 5
}
